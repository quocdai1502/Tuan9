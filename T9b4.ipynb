{
  "nbformat": 4,
  "nbformat_minor": 0,
  "metadata": {
    "colab": {
      "name": "Tuan8Bai4.ipynb",
      "provenance": [],
      "collapsed_sections": []
    },
    "kernelspec": {
      "display_name": "Python 3",
      "name": "python3"
    }
  },
  "cells": [
    {
      "cell_type": "code",
      "metadata": {
        "id": "8fE5BvDwFC81"
      },
      "source": [
        "import pandas as pd\r\n",
        "import matplotlib.pyplot as plt\r\n",
        "import seaborn as sns\r\n",
        "%matplotlib inline"
      ],
      "execution_count": null,
      "outputs": []
    },
    {
      "cell_type": "code",
      "metadata": {
        "id": "adglGE5yFN2d"
      },
      "source": [
        "df=pd.ExcelFile('45. KQ_L1_21-11-2020.xlsx')"
      ],
      "execution_count": null,
      "outputs": []
    },
    {
      "cell_type": "code",
      "metadata": {
        "id": "Balbx-UELP9S"
      },
      "source": [
        "result.drop(index=[0],axis=1,inplace=True)"
      ],
      "execution_count": null,
      "outputs": []
    },
    {
      "cell_type": "code",
      "metadata": {
        "colab": {
          "base_uri": "https://localhost:8080/",
          "height": 793
        },
        "id": "tGwrfHrpJXlU",
        "outputId": "87e0706c-84f3-4999-cf2b-f6c881ad6c9c"
      },
      "source": [
        "result"
      ],
      "execution_count": null,
      "outputs": [
        {
          "output_type": "execute_result",
          "data": {
            "text/html": [
              "<div>\n",
              "<style scoped>\n",
              "    .dataframe tbody tr th:only-of-type {\n",
              "        vertical-align: middle;\n",
              "    }\n",
              "\n",
              "    .dataframe tbody tr th {\n",
              "        vertical-align: top;\n",
              "    }\n",
              "\n",
              "    .dataframe thead th {\n",
              "        text-align: right;\n",
              "    }\n",
              "</style>\n",
              "<table border=\"1\" class=\"dataframe\">\n",
              "  <thead>\n",
              "    <tr style=\"text-align: right;\">\n",
              "      <th></th>\n",
              "      <th>STT</th>\n",
              "      <th>Mã SV</th>\n",
              "      <th>Họ</th>\n",
              "      <th>Tên</th>\n",
              "      <th>Ngày Sinh</th>\n",
              "      <th>Nơi Sinh</th>\n",
              "      <th>Lý Thuyết</th>\n",
              "      <th>Win_Word</th>\n",
              "      <th>Excel</th>\n",
              "      <th>Powerpoint</th>\n",
              "      <th>Lý Thuyết TK</th>\n",
              "      <th>Thực Hành TK</th>\n",
              "      <th>Xếp loại</th>\n",
              "      <th>G. Chú</th>\n",
              "    </tr>\n",
              "  </thead>\n",
              "  <tbody>\n",
              "    <tr>\n",
              "      <th>1</th>\n",
              "      <td>1.0</td>\n",
              "      <td>15110181.0</td>\n",
              "      <td>Nguyễn Cao Thiên</td>\n",
              "      <td>An</td>\n",
              "      <td>1997-06-13 00:00:00</td>\n",
              "      <td>Quảng Ngãi</td>\n",
              "      <td>2.5</td>\n",
              "      <td>3.0</td>\n",
              "      <td>0.0</td>\n",
              "      <td>4.0</td>\n",
              "      <td>2.5</td>\n",
              "      <td>2.0</td>\n",
              "      <td>Không đạt</td>\n",
              "      <td>CB135,136</td>\n",
              "    </tr>\n",
              "    <tr>\n",
              "      <th>2</th>\n",
              "      <td>2.0</td>\n",
              "      <td>17027851.0</td>\n",
              "      <td>Nguyễn Thị Thúy</td>\n",
              "      <td>An</td>\n",
              "      <td>1999-04-30 00:00:00</td>\n",
              "      <td>Tây Ninh</td>\n",
              "      <td>0.0</td>\n",
              "      <td>0.0</td>\n",
              "      <td>0.0</td>\n",
              "      <td>0.0</td>\n",
              "      <td>0.0</td>\n",
              "      <td>0.0</td>\n",
              "      <td>Không đạt</td>\n",
              "      <td>CB135,136</td>\n",
              "    </tr>\n",
              "    <tr>\n",
              "      <th>3</th>\n",
              "      <td>3.0</td>\n",
              "      <td>17081551.0</td>\n",
              "      <td>Nguyễn Thị Xuân</td>\n",
              "      <td>An</td>\n",
              "      <td>1999-01-01 00:00:00</td>\n",
              "      <td>TP. HCM</td>\n",
              "      <td>6.0</td>\n",
              "      <td>3.5</td>\n",
              "      <td>7.0</td>\n",
              "      <td>7.0</td>\n",
              "      <td>6.0</td>\n",
              "      <td>5.6</td>\n",
              "      <td>Đạt</td>\n",
              "      <td>CB134</td>\n",
              "    </tr>\n",
              "    <tr>\n",
              "      <th>4</th>\n",
              "      <td>4.0</td>\n",
              "      <td>18019591.0</td>\n",
              "      <td>Thái Phúc</td>\n",
              "      <td>An</td>\n",
              "      <td>2000-03-29 00:00:00</td>\n",
              "      <td>Tiền Giang</td>\n",
              "      <td>5.0</td>\n",
              "      <td>3.0</td>\n",
              "      <td>0.0</td>\n",
              "      <td>0.0</td>\n",
              "      <td>5.0</td>\n",
              "      <td>1.2</td>\n",
              "      <td>Không đạt</td>\n",
              "      <td>CB135,136</td>\n",
              "    </tr>\n",
              "    <tr>\n",
              "      <th>5</th>\n",
              "      <td>5.0</td>\n",
              "      <td>18010291.0</td>\n",
              "      <td>Trần Khắc</td>\n",
              "      <td>An</td>\n",
              "      <td>2000-03-16 00:00:00</td>\n",
              "      <td>Long An</td>\n",
              "      <td>4.5</td>\n",
              "      <td>4.0</td>\n",
              "      <td>1.0</td>\n",
              "      <td>5.0</td>\n",
              "      <td>4.5</td>\n",
              "      <td>3.0</td>\n",
              "      <td>Không đạt</td>\n",
              "      <td>CB135,136</td>\n",
              "    </tr>\n",
              "    <tr>\n",
              "      <th>...</th>\n",
              "      <td>...</td>\n",
              "      <td>...</td>\n",
              "      <td>...</td>\n",
              "      <td>...</td>\n",
              "      <td>...</td>\n",
              "      <td>...</td>\n",
              "      <td>...</td>\n",
              "      <td>...</td>\n",
              "      <td>...</td>\n",
              "      <td>...</td>\n",
              "      <td>...</td>\n",
              "      <td>...</td>\n",
              "      <td>...</td>\n",
              "      <td>...</td>\n",
              "    </tr>\n",
              "    <tr>\n",
              "      <th>590</th>\n",
              "      <td>590.0</td>\n",
              "      <td>18091721.0</td>\n",
              "      <td>Đào Thị Phượng</td>\n",
              "      <td>Vỹ</td>\n",
              "      <td>2000-06-06 00:00:00</td>\n",
              "      <td>Hà Tĩnh</td>\n",
              "      <td>4.5</td>\n",
              "      <td>3.0</td>\n",
              "      <td>4.0</td>\n",
              "      <td>6.0</td>\n",
              "      <td>4.5</td>\n",
              "      <td>4.0</td>\n",
              "      <td>Không đạt</td>\n",
              "      <td>CB135,136</td>\n",
              "    </tr>\n",
              "    <tr>\n",
              "      <th>591</th>\n",
              "      <td>591.0</td>\n",
              "      <td>16070201.0</td>\n",
              "      <td>Nguyễn Phạm Hoàng</td>\n",
              "      <td>Vỹ</td>\n",
              "      <td>1998-05-27 00:00:00</td>\n",
              "      <td>Tiền Giang</td>\n",
              "      <td>6.0</td>\n",
              "      <td>5.0</td>\n",
              "      <td>8.5</td>\n",
              "      <td>8.0</td>\n",
              "      <td>6.0</td>\n",
              "      <td>7.0</td>\n",
              "      <td>Đạt</td>\n",
              "      <td>CB135,136</td>\n",
              "    </tr>\n",
              "    <tr>\n",
              "      <th>592</th>\n",
              "      <td>592.0</td>\n",
              "      <td>16008401.0</td>\n",
              "      <td>Bùi Thị Như</td>\n",
              "      <td>Ý</td>\n",
              "      <td>1998-06-24 00:00:00</td>\n",
              "      <td>Quảng Nam</td>\n",
              "      <td>4.5</td>\n",
              "      <td>9.5</td>\n",
              "      <td>9.0</td>\n",
              "      <td>9.0</td>\n",
              "      <td>4.5</td>\n",
              "      <td>9.2</td>\n",
              "      <td>Không đạt</td>\n",
              "      <td>CB135,136</td>\n",
              "    </tr>\n",
              "    <tr>\n",
              "      <th>593</th>\n",
              "      <td>593.0</td>\n",
              "      <td>17022401.0</td>\n",
              "      <td>Nguyễn Như</td>\n",
              "      <td>Ý</td>\n",
              "      <td>1999-12-20 00:00:00</td>\n",
              "      <td>Gia Lai</td>\n",
              "      <td>5.5</td>\n",
              "      <td>4.0</td>\n",
              "      <td>6.0</td>\n",
              "      <td>9.0</td>\n",
              "      <td>5.5</td>\n",
              "      <td>5.8</td>\n",
              "      <td>Đạt</td>\n",
              "      <td>CB135,136</td>\n",
              "    </tr>\n",
              "    <tr>\n",
              "      <th>594</th>\n",
              "      <td>594.0</td>\n",
              "      <td>18043731.0</td>\n",
              "      <td>Quan Hải</td>\n",
              "      <td>Yến</td>\n",
              "      <td>2000-05-03 00:00:00</td>\n",
              "      <td>Long An</td>\n",
              "      <td>5.0</td>\n",
              "      <td>8.0</td>\n",
              "      <td>7.0</td>\n",
              "      <td>5.0</td>\n",
              "      <td>5.0</td>\n",
              "      <td>7.0</td>\n",
              "      <td>Đạt</td>\n",
              "      <td>CB134</td>\n",
              "    </tr>\n",
              "  </tbody>\n",
              "</table>\n",
              "<p>594 rows × 14 columns</p>\n",
              "</div>"
            ],
            "text/plain": [
              "       STT       Mã SV                 Họ  ... Thực Hành TK   Xếp loại     G. Chú\n",
              "1      1.0  15110181.0   Nguyễn Cao Thiên  ...          2.0  Không đạt  CB135,136\n",
              "2      2.0  17027851.0    Nguyễn Thị Thúy  ...          0.0  Không đạt  CB135,136\n",
              "3      3.0  17081551.0    Nguyễn Thị Xuân  ...          5.6        Đạt      CB134\n",
              "4      4.0  18019591.0          Thái Phúc  ...          1.2  Không đạt  CB135,136\n",
              "5      5.0  18010291.0          Trần Khắc  ...          3.0  Không đạt  CB135,136\n",
              "..     ...         ...                ...  ...          ...        ...        ...\n",
              "590  590.0  18091721.0     Đào Thị Phượng  ...          4.0  Không đạt  CB135,136\n",
              "591  591.0  16070201.0  Nguyễn Phạm Hoàng  ...          7.0        Đạt  CB135,136\n",
              "592  592.0  16008401.0        Bùi Thị Như  ...          9.2  Không đạt  CB135,136\n",
              "593  593.0  17022401.0         Nguyễn Như  ...          5.8        Đạt  CB135,136\n",
              "594  594.0  18043731.0           Quan Hải  ...          7.0        Đạt      CB134\n",
              "\n",
              "[594 rows x 14 columns]"
            ]
          },
          "metadata": {
            "tags": []
          },
          "execution_count": 14
        }
      ]
    },
    {
      "cell_type": "code",
      "metadata": {
        "colab": {
          "base_uri": "https://localhost:8080/"
        },
        "id": "CzJZaxIAMWbg",
        "outputId": "5efcea3f-aad0-49a7-826e-bb91365eef4b"
      },
      "source": [
        "result.info()"
      ],
      "execution_count": null,
      "outputs": [
        {
          "output_type": "stream",
          "text": [
            "<class 'pandas.core.frame.DataFrame'>\n",
            "Int64Index: 594 entries, 1 to 594\n",
            "Data columns (total 14 columns):\n",
            " #   Column        Non-Null Count  Dtype  \n",
            "---  ------        --------------  -----  \n",
            " 0   STT           594 non-null    float64\n",
            " 1   Mã SV         594 non-null    float64\n",
            " 2   Họ            594 non-null    object \n",
            " 3   Tên           594 non-null    object \n",
            " 4   Ngày Sinh     576 non-null    object \n",
            " 5   Nơi Sinh      576 non-null    object \n",
            " 6   Lý Thuyết     594 non-null    float64\n",
            " 7   Win_Word      594 non-null    float64\n",
            " 8   Excel         594 non-null    float64\n",
            " 9   Powerpoint    594 non-null    float64\n",
            " 10  Lý Thuyết TK  594 non-null    float64\n",
            " 11  Thực Hành TK  594 non-null    float64\n",
            " 12  Xếp loại      594 non-null    object \n",
            " 13  G. Chú        594 non-null    object \n",
            "dtypes: float64(8), object(6)\n",
            "memory usage: 69.6+ KB\n"
          ],
          "name": "stdout"
        }
      ]
    },
    {
      "cell_type": "code",
      "metadata": {
        "id": "Pta3v8-oMfEi"
      },
      "source": [
        "result['STT']=result['STT'].astype('int64')"
      ],
      "execution_count": null,
      "outputs": []
    },
    {
      "cell_type": "code",
      "metadata": {
        "id": "FkSCMPjDqK-N"
      },
      "source": [
        "Diem=['Lý Thuyết','Win_Word','Excel','Powerpoint','Lý Thuyết TK','Thực Hành TK']\r\n",
        "result=result[Diem]"
      ],
      "execution_count": null,
      "outputs": []
    },
    {
      "cell_type": "code",
      "metadata": {
        "colab": {
          "base_uri": "https://localhost:8080/",
          "height": 397
        },
        "id": "BjPCCwxSqh1v",
        "outputId": "a175aa35-9750-4656-9cd3-c565ecf40154"
      },
      "source": [
        "result[Diem].hist(bins=15, figsize=(15, 6), layout=(2, 4));"
      ],
      "execution_count": null,
      "outputs": [
        {
          "output_type": "display_data",
          "data": {
            "image/png": "[encoded data removed]",
            "text/plain": [
              "<Figure size 1080x432 with 8 Axes>"
            ]
          },
          "metadata": {
            "tags": []
          }
        }
      ]
    },
    {
      "cell_type": "code",
      "metadata": {
        "id": "7Foonc1DNnD9",
        "colab": {
          "base_uri": "https://localhost:8080/",
          "height": 280
        },
        "outputId": "08b951dd-9dbb-436a-ffee-c06cc0799c8a"
      },
      "source": [
        "sns.scatterplot(x=result['Lý Thuyết TK'], y=result['Thực Hành TK']);"
      ],
      "execution_count": null,
      "outputs": [
        {
          "output_type": "display_data",
          "data": {
            "image/png": "[encoded data removed]",
            "text/plain": [
              "<Figure size 432x288 with 1 Axes>"
            ]
          },
          "metadata": {
            "tags": [],
            "needs_background": "light"
          }
        }
      ]
    },
    {
      "cell_type": "code",
      "metadata": {
        "colab": {
          "base_uri": "https://localhost:8080/",
          "height": 441
        },
        "id": "AQOOk8Atn8xb",
        "outputId": "923cf663-857b-48c8-bbab-a39c2f7ef24c"
      },
      "source": [
        "sns.jointplot(x=result['Lý Thuyết TK'], y=result['Thực Hành TK']);"
      ],
      "execution_count": null,
      "outputs": [
        {
          "output_type": "display_data",
          "data": {
            "image/png": "[encoded data removed]",
            "text/plain": [
              "<Figure size 432x432 with 3 Axes>"
            ]
          },
          "metadata": {
            "tags": [],
            "needs_background": "light"
          }
        }
      ]
    },
    {
      "cell_type": "code",
      "metadata": {
        "colab": {
          "base_uri": "https://localhost:8080/",
          "height": 298
        },
        "id": "Wtor_ZjrRDTa",
        "outputId": "093e985d-63d6-4fb3-9298-1d287ef19d8a"
      },
      "source": [
        "sns.boxplot(x=result['Xếp loại'],y=result['Lý Thuyết TK'])"
      ],
      "execution_count": null,
      "outputs": [
        {
          "output_type": "execute_result",
          "data": {
            "text/plain": [
              "<matplotlib.axes._subplots.AxesSubplot at 0x7f749605aa90>"
            ]
          },
          "metadata": {
            "tags": []
          },
          "execution_count": 22
        },
        {
          "output_type": "display_data",
          "data": {
            "image/png": "[encoded data removed]",
            "text/plain": [
              "<Figure size 432x288 with 1 Axes>"
            ]
          },
          "metadata": {
            "tags": [],
            "needs_background": "light"
          }
        }
      ]
    },
    {
      "cell_type": "code",
      "metadata": {
        "id": "jEwYAjGjoGMb"
      },
      "source": [
        ""
      ],
      "execution_count": null,
      "outputs": []
    },
    {
      "cell_type": "code",
      "metadata": {
        "id": "rfJqCJdlXndy"
      },
      "source": [
        "DiemTK=['Thực Hành TK' , 'Lý Thuyết TK']\r\n",
        "XL=[' Xếp loại']"
      ],
      "execution_count": null,
      "outputs": []
    },
    {
      "cell_type": "code",
      "metadata": {
        "colab": {
          "base_uri": "https://localhost:8080/",
          "height": 298
        },
        "id": "bEIS8_4VlGg9",
        "outputId": "6aeb3b7b-aab7-4881-c7ee-57fd937ece49"
      },
      "source": [
        "sns.boxplot(x=result['Xếp loại'],y=result['Thực Hành TK'])"
      ],
      "execution_count": null,
      "outputs": [
        {
          "output_type": "execute_result",
          "data": {
            "text/plain": [
              "<matplotlib.axes._subplots.AxesSubplot at 0x7f748cf23c50>"
            ]
          },
          "metadata": {
            "tags": []
          },
          "execution_count": 42
        },
        {
          "output_type": "display_data",
          "data": {
            "image/png": "[encoded data removed]",
            "text/plain": [
              "<Figure size 432x288 with 1 Axes>"
            ]
          },
          "metadata": {
            "tags": [],
            "needs_background": "light"
          }
        }
      ]
    }
  ]
}